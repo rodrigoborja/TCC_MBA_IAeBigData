{
  "nbformat": 4,
  "nbformat_minor": 0,
  "metadata": {
    "colab": {
      "name": "01_kNN_e_NN.ipynb",
      "provenance": []
    },
    "kernelspec": {
      "name": "python3",
      "display_name": "Python 3"
    },
    "language_info": {
      "name": "python"
    }
  },
  "cells": [
    {
      "cell_type": "code",
      "execution_count": null,
      "metadata": {
        "id": "byK8Rw_humid"
      },
      "outputs": [],
      "source": [
        "# !pip install sentence_transformers\n",
        "# !pip install keras_tuner\n",
        "# !pip install python-louvain\n",
        "\n",
        "# from google.colab import drive\n",
        "# drive.mount('/content/drive')\n",
        "\n",
        "\n",
        "import csv\n",
        "import json\n",
        "import re\n",
        "import ast\n",
        "import numpy as np\n",
        "import pandas as pd\n",
        "import matplotlib.pyplot as plt\n",
        "import matplotlib.cm as cm\n",
        "from sklearn.preprocessing import OneHotEncoder\n",
        "from sklearn.model_selection import train_test_split\n",
        "from sklearn.metrics.cluster import normalized_mutual_info_score\n",
        "from sentence_transformers import SentenceTransformer\n",
        "from sklearn.neighbors import KNeighborsClassifier\n",
        "from sklearn.neighbors import NeighborhoodComponentsAnalysis\n",
        "from sklearn.discriminant_analysis import LinearDiscriminantAnalysis\n",
        "from sklearn.neighbors import NearestCentroid\n",
        "from sklearn.decomposition import PCA\n",
        "from sklearn.metrics import confusion_matrix,accuracy_score,ConfusionMatrixDisplay,precision_score,recall_score,f1_score,pairwise_distances\n",
        "from sklearn.preprocessing import normalize\n",
        "from imblearn.under_sampling import AllKNN\n",
        "from imblearn.under_sampling import RandomUnderSampler\n",
        "import tensorflow as tf\n",
        "from tensorflow import keras\n",
        "import keras_tuner as kt\n",
        "import plotly.graph_objects as go\n",
        "import plotly.express as px\n",
        "import networkx as nx\n",
        "import networkx.algorithms.community as nx_comm\n",
        "from community import community_louvain\n",
        "from ast import literal_eval\n",
        "np.set_printoptions(linewidth=25000)"
      ]
    },
    {
      "cell_type": "code",
      "source": [
        "df_train = pd.read_csv('/content/drive/MyDrive/TCC/df_train_new.txt')\n",
        "df_test = pd.read_csv('/content/drive/MyDrive/TCC/df_test_new.txt')\n",
        "\n",
        "def limpa(x):\n",
        "    return [float(n) for n in (x.strip('[]').replace(' ',',').replace(',,',',').split(',')) if n != '' ]\n",
        "\n",
        "df_train['Embedding'] = df_train['Embedding'].apply(lambda x: limpa(x))\n",
        "df_test['Embedding'] = df_test['Embedding'].apply(lambda x: limpa(x))\n",
        "\n",
        "def limpa2(x):\n",
        "    return int(x.strip('[]'))\n",
        "\n",
        "df_train['Genre_Class'] = df_train['Genre_Class'].apply(lambda x: limpa2(x))\n",
        "df_test['Genre_Class'] = df_test['Genre_Class'].apply(lambda x: limpa2(x))\n",
        "\n",
        "print(df_train['Genre_Class'].value_counts())\n",
        "print(df_test['Genre_Class'].value_counts())\n",
        "\n",
        "def lista(x):\n",
        "    return [x]\n",
        "\n",
        "ohe = OneHotEncoder(sparse=False)\n",
        "ohe_train = pd.Series(list(ohe.fit_transform(df_train['Genre_Class'].apply(lambda x: lista(x)).tolist())))\n",
        "ohe_test = pd.Series(list(ohe.fit_transform(df_test['Genre_Class'].apply(lambda x: lista(x)).tolist())))\n",
        "\n",
        "df_train['ohe_train'] = ohe_train\n",
        "df_test['ohe_test'] = ohe_test\n",
        "\n",
        "df_train.info()\n",
        "df_test.info()\n",
        "\n",
        "plt.hist(df_train['Genre_Class'],[-0.5,0.5,1.5,2.5,3.5,4.5],rwidth=0.85)\n",
        "plt.xlabel('Gênero')\n",
        "plt.ylabel('Quantidade')\n",
        "plt.title(\"Distribuição da quantidade de dados de cada gênero\\nConjunto de Treino\")\n",
        "plt.show()\n",
        "\n",
        "plt.hist(df_test['Genre_Class'],[-0.5,0.5,1.5,2.5,3.5,4.5],rwidth=0.85)\n",
        "plt.xlabel('Gênero')\n",
        "plt.ylabel('Quantidade')\n",
        "plt.title('Distribuição da quantidade de dados de cada gênero\\nConjunto de Teste')\n",
        "plt.show()\n"
      ],
      "metadata": {
        "id": "5Z-kWHHnw8ls"
      },
      "execution_count": null,
      "outputs": []
    },
    {
      "cell_type": "code",
      "source": [
        "rus = RandomUnderSampler(random_state=666)\n",
        "df_train_rus,_ = rus.fit_resample(df_train,df_train['Genre_Class'].tolist())\n",
        "print(df_train_rus['Genre_Class'].value_counts())\n",
        "\n",
        "df_train = df_train_rus.copy()\n",
        "\n",
        "plt.hist(df_train_rus['Genre_Class'],[-0.5,0.5,1.5,2.5,3.5,4.5],rwidth=0.85)\n",
        "plt.xlabel('Gênero')\n",
        "plt.ylabel('Quantidade')\n",
        "plt.title('Distribuição da quantidade de dados de cada gênero\\nConjunto de Treino após Subsampling')\n",
        "plt.show()"
      ],
      "metadata": {
        "id": "pB3tixB7xbm9"
      },
      "execution_count": null,
      "outputs": []
    },
    {
      "cell_type": "code",
      "source": [
        "#acc = []\n",
        "#for n in range(1,40):\n",
        "n = 13\n",
        "train_classifier = KNeighborsClassifier(n_neighbors = n, metric = 'euclidean')\n",
        "train_classifier.fit(np.array(df_train['Embedding'].tolist()), np.array(df_train['Genre_Class'].tolist()))\n",
        "\n",
        "y_pred = train_classifier.predict(np.array(df_test['Embedding'].tolist()))\n",
        "\n",
        "\n",
        "cm = confusion_matrix(np.array(df_test['Genre_Class'].tolist()), y_pred)\n",
        "ac = accuracy_score(np.array(df_test['Genre_Class'].tolist()),y_pred)\n",
        "#    acc.append([n,ac])\n",
        "\n",
        "\n",
        "\n",
        "print(cm)\n",
        "print(ac)\n",
        "#or i in acc:\n",
        "#    print(i)"
      ],
      "metadata": {
        "id": "1MybK8pxxfKO"
      },
      "execution_count": null,
      "outputs": []
    },
    {
      "cell_type": "code",
      "source": [
        "rus_test = RandomUnderSampler(random_state=666)\n",
        "df_test_rus,_ = rus_test.fit_resample(df_test,df_test['Genre_Class'].tolist())\n",
        "\n",
        "print(df_test_rus['Genre_Class'].value_counts())\n",
        "\n",
        "y_pred = train_classifier.predict(np.array(df_test_rus['Embedding'].tolist()))\n",
        "\n",
        "\n",
        "cm = confusion_matrix(np.array(df_test_rus['Genre_Class'].tolist()), y_pred)\n",
        "ac = accuracy_score(np.array(df_test_rus['Genre_Class'].tolist()),y_pred)\n",
        "\n",
        "print(cm)\n",
        "print(ac)\n",
        "\n",
        "print(precision_score(np.array(df_test_rus['Genre_Class'].tolist()), y_pred, average=None))\n",
        "print(recall_score(np.array(df_test_rus['Genre_Class'].tolist()), y_pred, average=None))\n",
        "print(f1_score(np.array(df_test_rus['Genre_Class'].tolist()), y_pred, average=None))\n",
        "\n",
        "disp = ConfusionMatrixDisplay.from_predictions(np.array(df_test_rus['Genre_Class'].tolist()), y_pred, display_labels=selected_genres, xticks_rotation=60, cmap=\"gist_yarg\")"
      ],
      "metadata": {
        "id": "2Zy5DBMfxiSC"
      },
      "execution_count": null,
      "outputs": []
    },
    {
      "cell_type": "code",
      "source": [
        "modelNN = keras.models.load_model('/content/drive/MyDrive/TCC/modelo-NN')\n",
        "\n",
        "score = modelNN.evaluate(np.array(df_test['Embedding'].tolist()), np.array(df_test['ohe_test'].tolist()))\n",
        "print('---------------')\n",
        "print(\"Perda (entropia cruzada): \", score[0])\n",
        "print(\"Categorical accuracy: \", score[1])\n",
        "print(\"Falsos negativos: \", score[2])\n",
        "print(\"Falsos positivos: \", score[3])\n",
        "print(\"Verdadeiros negativos: \", score[4])\n",
        "print(\"Verdadeiros positivos: \", score[5])\n",
        "print(\"Precisao: \", score[6])\n",
        "print(\"Revocacao: \", score[7])"
      ],
      "metadata": {
        "id": "nCKHNDKpyE9k"
      },
      "execution_count": null,
      "outputs": []
    },
    {
      "cell_type": "code",
      "source": [
        "\n",
        "\n",
        "pred = modelNN.predict(np.array(df_test_rus['Embedding'].tolist()))\n",
        "\n",
        "print(np.argmax(pred, axis=1))\n",
        "\n",
        "cm_NN = confusion_matrix(np.array(df_test_rus['Genre_Class'].tolist()), np.argmax(pred, axis=1))\n",
        "ac_NN = accuracy_score(np.array(df_test_rus['Genre_Class'].tolist()),np.argmax(pred, axis=1))\n",
        "\n",
        "print(cm_NN)\n",
        "print(ac_NN)\n",
        "\n",
        "print(precision_score(np.array(df_test_rus['Genre_Class'].tolist()), np.argmax(pred, axis=1), average=None))\n",
        "print(recall_score(np.array(df_test_rus['Genre_Class'].tolist()), np.argmax(pred, axis=1), average=None))\n",
        "print(f1_score(np.array(df_test_rus['Genre_Class'].tolist()), np.argmax(pred, axis=1), average=None))\n",
        "\n",
        "disp = ConfusionMatrixDisplay.from_predictions(np.array(df_test_rus['Genre_Class'].tolist()), np.argmax(pred, axis=1), display_labels=selected_genres, xticks_rotation=60, cmap=\"gist_yarg\")"
      ],
      "metadata": {
        "id": "gY9A1n5nyH8t"
      },
      "execution_count": null,
      "outputs": []
    }
  ]
}